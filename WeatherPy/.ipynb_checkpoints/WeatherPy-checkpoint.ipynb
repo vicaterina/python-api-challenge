{
 "cells": [
  {
   "cell_type": "code",
   "execution_count": null,
   "metadata": {},
   "outputs": [],
   "source": [
    "#https://nu.bootcampcontent.com/NU-Coding-Bootcamp/NUCHI201908DATA2/blob/master/Lessons/06-Python-APIs/2/Activities/05-Ins_OpenWeatherDataFrame/Solved/Ins_OpenWeatherDataFrame.ipynb\n"
   ]
  },
  {
   "cell_type": "code",
   "execution_count": 83,
   "metadata": {},
   "outputs": [],
   "source": [
    "# Dependencies and Setup\n",
    "import matplotlib.pyplot as plt\n",
    "import pandas as pd\n",
    "import numpy as np\n",
    "import requests\n",
    "import time\n",
    "from datetime import datetime\n",
    "from scipy.stats import linregress\n",
    "from scipy import stats\n",
    "\n",
    "# Import API key\n",
    "from api_keys import weather_api_key\n",
    "\n",
    "# Incorporated citipy to determine city based on latitude and longitude\n",
    "from citipy import citipy\n",
    "\n",
    "# Output File (CSV)\n",
    "output_data_file = \"output_data/cities.csv\"\n",
    "\n",
    "# Range of latitudes and longitudes\n",
    "lat_range = (-90, 90)\n",
    "lng_range = (-180, 180)"
   ]
  },
  {
   "cell_type": "code",
   "execution_count": 23,
   "metadata": {},
   "outputs": [
    {
     "name": "stdout",
     "output_type": "stream",
     "text": [
      "761baeeb2bf8ccaf0f4f10c5ec153aa8\n"
     ]
    }
   ],
   "source": [
    "print(weather_api_key)"
   ]
  },
  {
   "cell_type": "code",
   "execution_count": 24,
   "metadata": {},
   "outputs": [
    {
     "data": {
      "text/html": [
       "<div>\n",
       "<style scoped>\n",
       "    .dataframe tbody tr th:only-of-type {\n",
       "        vertical-align: middle;\n",
       "    }\n",
       "\n",
       "    .dataframe tbody tr th {\n",
       "        vertical-align: top;\n",
       "    }\n",
       "\n",
       "    .dataframe thead th {\n",
       "        text-align: right;\n",
       "    }\n",
       "</style>\n",
       "<table border=\"1\" class=\"dataframe\">\n",
       "  <thead>\n",
       "    <tr style=\"text-align: right;\">\n",
       "      <th></th>\n",
       "      <th>City_ID</th>\n",
       "      <th>City</th>\n",
       "      <th>Cloudiness</th>\n",
       "      <th>Country</th>\n",
       "      <th>Date</th>\n",
       "      <th>Humidity</th>\n",
       "      <th>Lat</th>\n",
       "      <th>Lng</th>\n",
       "      <th>Max Temp</th>\n",
       "      <th>Wind Speed</th>\n",
       "    </tr>\n",
       "  </thead>\n",
       "  <tbody>\n",
       "    <tr>\n",
       "      <th>0</th>\n",
       "      <td>0</td>\n",
       "      <td>ostrovnoy</td>\n",
       "      <td>2</td>\n",
       "      <td>RU</td>\n",
       "      <td>1558378754</td>\n",
       "      <td>72</td>\n",
       "      <td>68.05</td>\n",
       "      <td>39.51</td>\n",
       "      <td>37.50</td>\n",
       "      <td>7.16</td>\n",
       "    </tr>\n",
       "    <tr>\n",
       "      <th>1</th>\n",
       "      <td>1</td>\n",
       "      <td>mahebourg</td>\n",
       "      <td>75</td>\n",
       "      <td>MU</td>\n",
       "      <td>1558378503</td>\n",
       "      <td>74</td>\n",
       "      <td>-20.41</td>\n",
       "      <td>57.70</td>\n",
       "      <td>78.80</td>\n",
       "      <td>11.41</td>\n",
       "    </tr>\n",
       "    <tr>\n",
       "      <th>2</th>\n",
       "      <td>2</td>\n",
       "      <td>qaanaaq</td>\n",
       "      <td>25</td>\n",
       "      <td>GL</td>\n",
       "      <td>1558378755</td>\n",
       "      <td>73</td>\n",
       "      <td>77.48</td>\n",
       "      <td>-69.36</td>\n",
       "      <td>22.20</td>\n",
       "      <td>2.37</td>\n",
       "    </tr>\n",
       "    <tr>\n",
       "      <th>3</th>\n",
       "      <td>3</td>\n",
       "      <td>zhuhai</td>\n",
       "      <td>0</td>\n",
       "      <td>CN</td>\n",
       "      <td>1558378755</td>\n",
       "      <td>39</td>\n",
       "      <td>40.71</td>\n",
       "      <td>112.04</td>\n",
       "      <td>44.60</td>\n",
       "      <td>4.47</td>\n",
       "    </tr>\n",
       "    <tr>\n",
       "      <th>4</th>\n",
       "      <td>4</td>\n",
       "      <td>cape town</td>\n",
       "      <td>20</td>\n",
       "      <td>ZA</td>\n",
       "      <td>1558378755</td>\n",
       "      <td>76</td>\n",
       "      <td>-33.93</td>\n",
       "      <td>18.42</td>\n",
       "      <td>55.99</td>\n",
       "      <td>8.05</td>\n",
       "    </tr>\n",
       "  </tbody>\n",
       "</table>\n",
       "</div>"
      ],
      "text/plain": [
       "   City_ID       City  Cloudiness Country        Date  Humidity    Lat  \\\n",
       "0        0  ostrovnoy           2      RU  1558378754        72  68.05   \n",
       "1        1  mahebourg          75      MU  1558378503        74 -20.41   \n",
       "2        2    qaanaaq          25      GL  1558378755        73  77.48   \n",
       "3        3     zhuhai           0      CN  1558378755        39  40.71   \n",
       "4        4  cape town          20      ZA  1558378755        76 -33.93   \n",
       "\n",
       "      Lng  Max Temp  Wind Speed  \n",
       "0   39.51     37.50        7.16  \n",
       "1   57.70     78.80       11.41  \n",
       "2  -69.36     22.20        2.37  \n",
       "3  112.04     44.60        4.47  \n",
       "4   18.42     55.99        8.05  "
      ]
     },
     "execution_count": 24,
     "metadata": {},
     "output_type": "execute_result"
    }
   ],
   "source": [
    "#Read in CSV file\n",
    "df=pd.read_csv(output_data_file)\n",
    "df.head()\n"
   ]
  },
  {
   "cell_type": "code",
   "execution_count": 25,
   "metadata": {},
   "outputs": [
    {
     "data": {
      "text/plain": [
       "548"
      ]
     },
     "execution_count": 25,
     "metadata": {},
     "output_type": "execute_result"
    }
   ],
   "source": [
    "len(df)"
   ]
  },
  {
   "cell_type": "markdown",
   "metadata": {},
   "source": [
    "### Generate Cities List\n"
   ]
  },
  {
   "cell_type": "code",
   "execution_count": 29,
   "metadata": {},
   "outputs": [
    {
     "data": {
      "text/plain": [
       "604"
      ]
     },
     "execution_count": 29,
     "metadata": {},
     "output_type": "execute_result"
    }
   ],
   "source": [
    "# List for holding lat_lngs and cities\n",
    "lat_lngs = []\n",
    "cities = []\n",
    "\n",
    "# Create a set of random lat and lng combinations\n",
    "lats = np.random.uniform(low=-90.000, high=90.000, size=1500)\n",
    "lngs = np.random.uniform(low=-180.000, high=180.000, size=1500)\n",
    "lat_lngs = zip(lats, lngs)\n",
    "\n",
    "# Identify nearest city for each lat, lng combination\n",
    "for lat_lng in lat_lngs:\n",
    "    city = citipy.nearest_city(lat_lng[0], lat_lng[1]).city_name\n",
    "    \n",
    "    # If the city is unique, then add it to a our cities list\n",
    "    \n",
    "    if city not in cities:\n",
    "        cities.append(city)\n",
    "\n",
    "# Print the city count to confirm sufficient count\n",
    "len(cities)"
   ]
  },
  {
   "cell_type": "markdown",
   "metadata": {},
   "source": [
    "### Perform API Calls\n",
    "\n",
    "   * Perform a weather check on each city using a series of successive API calls.\n",
    "   * Include a print log of each city as it'sbeing processed (with the city number and city name).\n",
    "\n"
   ]
  },
  {
   "cell_type": "code",
   "execution_count": 34,
   "metadata": {},
   "outputs": [
    {
     "name": "stdout",
     "output_type": "stream",
     "text": [
      "Beginning Data Retrieval\n",
      "-----------------------------\n",
      "Processing Record 1 of Set 1 | hilo\n",
      "City not found. Skipping...\n",
      "Processing Record 2 of Set 1 | kapaa\n",
      "Processing Record 3 of Set 1 | mataura\n",
      "Processing Record 4 of Set 1 | grindavik\n",
      "Processing Record 5 of Set 1 | santiago de cuba\n",
      "Processing Record 6 of Set 1 | jamestown\n",
      "City not found. Skipping...\n",
      "Processing Record 7 of Set 1 | byron bay\n",
      "Processing Record 8 of Set 1 | baruun-urt\n",
      "Processing Record 9 of Set 1 | krasne\n",
      "Processing Record 10 of Set 1 | vaini\n",
      "Processing Record 11 of Set 1 | rikitea\n",
      "Processing Record 12 of Set 1 | hermanus\n",
      "Processing Record 13 of Set 1 | atuona\n",
      "Processing Record 14 of Set 1 | airai\n",
      "Processing Record 15 of Set 1 | isangel\n",
      "Processing Record 16 of Set 1 | cidreira\n",
      "Processing Record 17 of Set 1 | port keats\n",
      "Processing Record 18 of Set 1 | tuktoyaktuk\n",
      "Processing Record 19 of Set 1 | longyearbyen\n",
      "Processing Record 20 of Set 1 | alekseyevka\n",
      "Processing Record 21 of Set 1 | bereda\n",
      "Processing Record 22 of Set 1 | punta arenas\n",
      "Processing Record 23 of Set 1 | evensk\n",
      "Processing Record 24 of Set 1 | kambove\n",
      "Processing Record 25 of Set 1 | rafai\n",
      "Processing Record 26 of Set 1 | port-gentil\n",
      "City not found. Skipping...\n",
      "Processing Record 27 of Set 1 | capalayan\n",
      "Processing Record 28 of Set 1 | kumluca\n",
      "Processing Record 29 of Set 1 | iqaluit\n",
      "Processing Record 30 of Set 1 | caraballeda\n",
      "Processing Record 31 of Set 1 | bluff\n",
      "Processing Record 32 of Set 1 | mahebourg\n",
      "City not found. Skipping...\n",
      "Processing Record 33 of Set 1 | ushuaia\n",
      "Processing Record 34 of Set 1 | qaanaaq\n",
      "Processing Record 35 of Set 1 | mahibadhoo\n",
      "Processing Record 36 of Set 1 | port elizabeth\n",
      "Processing Record 37 of Set 1 | yellowknife\n",
      "Processing Record 38 of Set 1 | tasiilaq\n",
      "Processing Record 39 of Set 1 | aklavik\n",
      "Processing Record 40 of Set 1 | tautira\n",
      "City not found. Skipping...\n",
      "Processing Record 41 of Set 1 | avarua\n",
      "Processing Record 42 of Set 1 | saint-pierre\n",
      "Processing Record 43 of Set 1 | coquimbo\n",
      "Processing Record 44 of Set 1 | albany\n",
      "Processing Record 45 of Set 1 | maragogi\n",
      "Processing Record 46 of Set 1 | padang\n",
      "Processing Record 47 of Set 1 | jam sahib\n",
      "Processing Record 48 of Set 1 | ambon\n",
      "Processing Record 49 of Set 1 | sitka\n",
      "Processing Record 50 of Set 1 | cape town\n",
      "Processing Record 1 of Set 2 | yulara\n",
      "Processing Record 2 of Set 2 | takoradi\n",
      "Processing Record 3 of Set 2 | khatanga\n",
      "Processing Record 4 of Set 2 | bredasdorp\n",
      "City not found. Skipping...\n",
      "Processing Record 5 of Set 2 | port lincoln\n",
      "Processing Record 6 of Set 2 | dikson\n",
      "Processing Record 7 of Set 2 | sulangan\n",
      "Processing Record 8 of Set 2 | east london\n",
      "Processing Record 9 of Set 2 | puerto ayora\n",
      "City not found. Skipping...\n",
      "Processing Record 10 of Set 2 | sunbury\n",
      "Processing Record 11 of Set 2 | barrow\n",
      "City not found. Skipping...\n",
      "Processing Record 12 of Set 2 | monrovia\n",
      "Processing Record 13 of Set 2 | hamilton\n",
      "Processing Record 14 of Set 2 | nantucket\n",
      "Processing Record 15 of Set 2 | yumen\n",
      "Processing Record 16 of Set 2 | altamont\n",
      "City not found. Skipping...\n",
      "Processing Record 17 of Set 2 | sao filipe\n",
      "Processing Record 18 of Set 2 | ribeira grande\n",
      "Processing Record 19 of Set 2 | saskylakh\n",
      "Processing Record 20 of Set 2 | ambunti\n",
      "City not found. Skipping...\n",
      "Processing Record 21 of Set 2 | belmonte\n",
      "Processing Record 22 of Set 2 | raudeberg\n",
      "Processing Record 23 of Set 2 | hobart\n",
      "Processing Record 24 of Set 2 | leshukonskoye\n",
      "Processing Record 25 of Set 2 | namibe\n",
      "Processing Record 26 of Set 2 | sheltozero\n",
      "Processing Record 27 of Set 2 | haftoni\n",
      "Processing Record 28 of Set 2 | marsabit\n",
      "Processing Record 29 of Set 2 | ambikapur\n",
      "Processing Record 30 of Set 2 | kodiak\n",
      "Processing Record 31 of Set 2 | pindushi\n",
      "City not found. Skipping...\n",
      "Processing Record 32 of Set 2 | torbay\n",
      "Processing Record 33 of Set 2 | chicama\n",
      "Processing Record 34 of Set 2 | dolores\n",
      "Processing Record 35 of Set 2 | souillac\n",
      "Processing Record 36 of Set 2 | kiruna\n",
      "City not found. Skipping...\n",
      "Processing Record 37 of Set 2 | hastings\n",
      "Processing Record 38 of Set 2 | vestmanna\n",
      "Processing Record 39 of Set 2 | stokmarknes\n",
      "City not found. Skipping...\n",
      "Processing Record 40 of Set 2 | itoman\n",
      "Processing Record 41 of Set 2 | igrim\n",
      "Processing Record 42 of Set 2 | westport\n",
      "Processing Record 43 of Set 2 | castro\n",
      "Processing Record 44 of Set 2 | lompoc\n",
      "Processing Record 45 of Set 2 | hoquiam\n",
      "Processing Record 46 of Set 2 | monticello\n",
      "Processing Record 47 of Set 2 | kaeo\n",
      "Processing Record 48 of Set 2 | arraial do cabo\n",
      "Processing Record 49 of Set 2 | bethel\n",
      "Processing Record 50 of Set 2 | faya\n",
      "Processing Record 1 of Set 3 | georgetown\n",
      "Processing Record 2 of Set 3 | praia da vitoria\n",
      "Processing Record 3 of Set 3 | sisimiut\n",
      "Processing Record 4 of Set 3 | bathsheba\n",
      "Processing Record 5 of Set 3 | saldanha\n",
      "Processing Record 6 of Set 3 | yar-sale\n",
      "Processing Record 7 of Set 3 | grand river south east\n",
      "Processing Record 8 of Set 3 | norman wells\n",
      "Processing Record 9 of Set 3 | new norfolk\n",
      "Processing Record 10 of Set 3 | san cristobal\n",
      "Processing Record 11 of Set 3 | hasaki\n",
      "Processing Record 12 of Set 3 | rantauprapat\n",
      "Processing Record 13 of Set 3 | hendrina\n",
      "Processing Record 14 of Set 3 | butaritari\n",
      "Processing Record 15 of Set 3 | busselton\n",
      "Processing Record 16 of Set 3 | pecanha\n",
      "Processing Record 17 of Set 3 | manakara\n",
      "Processing Record 18 of Set 3 | tigil\n",
      "Processing Record 19 of Set 3 | bur gabo\n",
      "Processing Record 20 of Set 3 | kieta\n",
      "Processing Record 21 of Set 3 | adrar\n",
      "Processing Record 22 of Set 3 | ruteng\n",
      "Processing Record 23 of Set 3 | grand gaube\n",
      "Processing Record 24 of Set 3 | bowen\n",
      "Processing Record 25 of Set 3 | orshanka\n",
      "City not found. Skipping...\n",
      "Processing Record 26 of Set 3 | chokurdakh\n",
      "Processing Record 27 of Set 3 | mys shmidta\n",
      "Processing Record 28 of Set 3 | talnakh\n",
      "Processing Record 29 of Set 3 | mount isa\n",
      "Processing Record 30 of Set 3 | lebu\n",
      "Processing Record 31 of Set 3 | kavaratti\n",
      "Processing Record 32 of Set 3 | faanui\n",
      "Processing Record 33 of Set 3 | doka\n",
      "Processing Record 34 of Set 3 | zyryanka\n",
      "Processing Record 35 of Set 3 | salalah\n",
      "Processing Record 36 of Set 3 | agadir\n",
      "Processing Record 37 of Set 3 | kununurra\n",
      "Processing Record 38 of Set 3 | bosaso\n",
      "Processing Record 39 of Set 3 | chuy\n",
      "Processing Record 40 of Set 3 | codrington\n",
      "Processing Record 41 of Set 3 | colares\n",
      "Processing Record 42 of Set 3 | baykit\n",
      "Processing Record 43 of Set 3 | hobyo\n",
      "Processing Record 44 of Set 3 | tessalit\n",
      "Processing Record 45 of Set 3 | yaring\n",
      "Processing Record 46 of Set 3 | karratha\n",
      "Processing Record 47 of Set 3 | carnarvon\n",
      "Processing Record 48 of Set 3 | hithadhoo\n",
      "Processing Record 49 of Set 3 | orodara\n",
      "Processing Record 50 of Set 3 | kyzyl-suu\n",
      "City not found. Skipping...\n",
      "Processing Record 1 of Set 4 | teahupoo\n",
      "Processing Record 2 of Set 4 | bubaque\n",
      "Processing Record 3 of Set 4 | lavrentiya\n",
      "Processing Record 4 of Set 4 | saint-philippe\n",
      "Processing Record 5 of Set 4 | harper\n",
      "Processing Record 6 of Set 4 | pierre\n",
      "Processing Record 7 of Set 4 | qiongshan\n",
      "Processing Record 8 of Set 4 | mar del plata\n",
      "City not found. Skipping...\n",
      "Processing Record 9 of Set 4 | mount gambier\n",
      "Processing Record 10 of Set 4 | geraldton\n",
      "Processing Record 11 of Set 4 | vao\n",
      "Processing Record 12 of Set 4 | yaroslavl\n",
      "Processing Record 13 of Set 4 | leningradskiy\n",
      "Processing Record 14 of Set 4 | tiksi\n",
      "Processing Record 15 of Set 4 | bocaiuva\n",
      "Processing Record 16 of Set 4 | victoria\n",
      "Processing Record 17 of Set 4 | kargat\n",
      "Processing Record 18 of Set 4 | port alfred\n",
      "Processing Record 19 of Set 4 | novoseleznevo\n",
      "Processing Record 20 of Set 4 | paragominas\n",
      "City not found. Skipping...\n",
      "Processing Record 21 of Set 4 | cassilandia\n",
      "City not found. Skipping...\n",
      "City not found. Skipping...\n",
      "Processing Record 22 of Set 4 | broome\n",
      "Processing Record 23 of Set 4 | minot\n",
      "Processing Record 24 of Set 4 | bad oldesloe\n",
      "Processing Record 25 of Set 4 | setermoen\n",
      "Processing Record 26 of Set 4 | aykhal\n",
      "Processing Record 27 of Set 4 | udachnyy\n",
      "Processing Record 28 of Set 4 | esperance\n",
      "Processing Record 29 of Set 4 | haines junction\n",
      "Processing Record 30 of Set 4 | clyde river\n",
      "City not found. Skipping...\n",
      "Processing Record 31 of Set 4 | hammerfest\n",
      "Processing Record 32 of Set 4 | cayenne\n",
      "Processing Record 33 of Set 4 | bulaevo\n",
      "Processing Record 34 of Set 4 | verkhoyansk\n",
      "City not found. Skipping...\n"
     ]
    },
    {
     "name": "stdout",
     "output_type": "stream",
     "text": [
      "Processing Record 35 of Set 4 | ancud\n",
      "City not found. Skipping...\n",
      "City not found. Skipping...\n",
      "Processing Record 36 of Set 4 | nikolskoye\n",
      "Processing Record 37 of Set 4 | dicabisagan\n",
      "Processing Record 38 of Set 4 | hambantota\n",
      "Processing Record 39 of Set 4 | kisangani\n",
      "Processing Record 40 of Set 4 | upernavik\n",
      "Processing Record 41 of Set 4 | balao\n",
      "City not found. Skipping...\n",
      "Processing Record 42 of Set 4 | kavieng\n",
      "Processing Record 43 of Set 4 | huarmey\n",
      "Processing Record 44 of Set 4 | luchegorsk\n",
      "Processing Record 45 of Set 4 | viedma\n",
      "Processing Record 46 of Set 4 | constitucion\n",
      "City not found. Skipping...\n",
      "Processing Record 47 of Set 4 | balabac\n",
      "Processing Record 48 of Set 4 | trelew\n",
      "Processing Record 49 of Set 4 | verkh-usugli\n",
      "Processing Record 50 of Set 4 | panjab\n",
      "Processing Record 1 of Set 5 | arman\n",
      "Processing Record 2 of Set 5 | fort nelson\n",
      "Processing Record 3 of Set 5 | vilhena\n",
      "Processing Record 4 of Set 5 | fortuna\n",
      "Processing Record 5 of Set 5 | ponta do sol\n",
      "City not found. Skipping...\n",
      "City not found. Skipping...\n",
      "Processing Record 6 of Set 5 | horsham\n",
      "City not found. Skipping...\n",
      "Processing Record 7 of Set 5 | angoche\n",
      "Processing Record 8 of Set 5 | vestmannaeyjar\n",
      "Processing Record 9 of Set 5 | fare\n",
      "Processing Record 10 of Set 5 | diamantino\n",
      "City not found. Skipping...\n",
      "Processing Record 11 of Set 5 | bara\n",
      "City not found. Skipping...\n",
      "City not found. Skipping...\n",
      "Processing Record 12 of Set 5 | bandarbeyla\n",
      "City not found. Skipping...\n",
      "Processing Record 13 of Set 5 | panalingaan\n",
      "Processing Record 14 of Set 5 | veraval\n",
      "Processing Record 15 of Set 5 | mehamn\n",
      "Processing Record 16 of Set 5 | vanimo\n",
      "Processing Record 17 of Set 5 | teberda\n",
      "Processing Record 18 of Set 5 | tuatapere\n",
      "Processing Record 19 of Set 5 | komsomolskiy\n",
      "Processing Record 20 of Set 5 | chumikan\n",
      "Processing Record 21 of Set 5 | saint-francois\n",
      "Processing Record 22 of Set 5 | camocim\n",
      "Processing Record 23 of Set 5 | semporna\n",
      "Processing Record 24 of Set 5 | coahuayana\n",
      "Processing Record 25 of Set 5 | zhuhai\n",
      "City not found. Skipping...\n",
      "Processing Record 26 of Set 5 | yeppoon\n",
      "Processing Record 27 of Set 5 | cranbrook\n",
      "Processing Record 28 of Set 5 | sayat\n",
      "Processing Record 29 of Set 5 | molina\n",
      "Processing Record 30 of Set 5 | vardo\n",
      "Processing Record 31 of Set 5 | juneau\n",
      "Processing Record 32 of Set 5 | thompson\n",
      "City not found. Skipping...\n",
      "Processing Record 33 of Set 5 | gouyave\n",
      "Processing Record 34 of Set 5 | mildura\n",
      "Processing Record 35 of Set 5 | port augusta\n",
      "City not found. Skipping...\n",
      "Processing Record 36 of Set 5 | nanortalik\n",
      "Processing Record 37 of Set 5 | bozeman\n",
      "Processing Record 38 of Set 5 | noumea\n",
      "City not found. Skipping...\n",
      "Processing Record 39 of Set 5 | bud\n",
      "Processing Record 40 of Set 5 | camacha\n",
      "Processing Record 41 of Set 5 | sosva\n",
      "Processing Record 42 of Set 5 | north bend\n",
      "Processing Record 43 of Set 5 | hualmay\n",
      "Processing Record 44 of Set 5 | vila velha\n",
      "City not found. Skipping...\n",
      "Processing Record 45 of Set 5 | naze\n",
      "Processing Record 46 of Set 5 | katsuura\n",
      "Processing Record 47 of Set 5 | tornio\n",
      "Processing Record 48 of Set 5 | parabel\n",
      "Processing Record 49 of Set 5 | gari\n",
      "City not found. Skipping...\n",
      "Processing Record 50 of Set 5 | mastung\n",
      "Processing Record 1 of Set 6 | taltal\n",
      "Processing Record 2 of Set 6 | natchez\n",
      "City not found. Skipping...\n",
      "Processing Record 3 of Set 6 | calvinia\n",
      "Processing Record 4 of Set 6 | oro valley\n",
      "Processing Record 5 of Set 6 | koutiala\n",
      "Processing Record 6 of Set 6 | mae hong son\n",
      "Processing Record 7 of Set 6 | severo-kurilsk\n",
      "City not found. Skipping...\n",
      "Processing Record 8 of Set 6 | isernia\n",
      "Processing Record 9 of Set 6 | conde\n",
      "Processing Record 10 of Set 6 | rio grande\n",
      "Processing Record 11 of Set 6 | sikeston\n",
      "City not found. Skipping...\n",
      "Processing Record 12 of Set 6 | cherskiy\n",
      "Processing Record 13 of Set 6 | klaksvik\n",
      "Processing Record 14 of Set 6 | ilhabela\n",
      "Processing Record 15 of Set 6 | cap malheureux\n",
      "Processing Record 16 of Set 6 | atambua\n",
      "Processing Record 17 of Set 6 | carahue\n",
      "Processing Record 18 of Set 6 | khorixas\n",
      "Processing Record 19 of Set 6 | pangnirtung\n",
      "Processing Record 20 of Set 6 | cabo san lucas\n",
      "Processing Record 21 of Set 6 | sinnamary\n",
      "Processing Record 22 of Set 6 | boa vista\n",
      "Processing Record 23 of Set 6 | carballo\n",
      "Processing Record 24 of Set 6 | puerto baquerizo moreno\n",
      "Processing Record 25 of Set 6 | puerto escondido\n",
      "Processing Record 26 of Set 6 | toul\n",
      "Processing Record 27 of Set 6 | kirakira\n",
      "Processing Record 28 of Set 6 | san patricio\n",
      "Processing Record 29 of Set 6 | markova\n",
      "Processing Record 30 of Set 6 | puerto asis\n",
      "Processing Record 31 of Set 6 | seymchan\n",
      "Processing Record 32 of Set 6 | mufumbwe\n",
      "City not found. Skipping...\n",
      "Processing Record 33 of Set 6 | niagara falls\n",
      "Processing Record 34 of Set 6 | hervey bay\n",
      "Processing Record 35 of Set 6 | bezhetsk\n",
      "Processing Record 36 of Set 6 | nelson bay\n",
      "City not found. Skipping...\n",
      "Processing Record 37 of Set 6 | xiazhen\n",
      "Processing Record 38 of Set 6 | maracaju\n",
      "Processing Record 39 of Set 6 | zacatepec\n",
      "Processing Record 40 of Set 6 | berkakit\n",
      "Processing Record 41 of Set 6 | izumo\n",
      "City not found. Skipping...\n",
      "City not found. Skipping...\n",
      "Processing Record 42 of Set 6 | ternate\n",
      "Processing Record 43 of Set 6 | kameshkovo\n",
      "City not found. Skipping...\n",
      "Processing Record 44 of Set 6 | kahului\n",
      "Processing Record 45 of Set 6 | ulladulla\n",
      "City not found. Skipping...\n",
      "Processing Record 46 of Set 6 | whitianga\n",
      "Processing Record 47 of Set 6 | polson\n",
      "Processing Record 48 of Set 6 | nizhniy odes\n",
      "Processing Record 49 of Set 6 | khandbari\n",
      "Processing Record 50 of Set 6 | awjilah\n",
      "Processing Record 1 of Set 7 | yatou\n",
      "Processing Record 2 of Set 7 | kaitangata\n",
      "City not found. Skipping...\n",
      "Processing Record 3 of Set 7 | creel\n",
      "City not found. Skipping...\n",
      "Processing Record 4 of Set 7 | shelburne\n",
      "Processing Record 5 of Set 7 | ostrovnoy\n",
      "City not found. Skipping...\n",
      "City not found. Skipping...\n",
      "Processing Record 6 of Set 7 | nurota\n",
      "City not found. Skipping...\n",
      "City not found. Skipping...\n",
      "City not found. Skipping...\n",
      "Processing Record 7 of Set 7 | tirumullaivasal\n",
      "Processing Record 8 of Set 7 | garden city\n",
      "Processing Record 9 of Set 7 | mersing\n",
      "Processing Record 10 of Set 7 | shitanjing\n",
      "Processing Record 11 of Set 7 | havelock\n",
      "Processing Record 12 of Set 7 | alenquer\n",
      "Processing Record 13 of Set 7 | petropavlovsk-kamchatskiy\n",
      "Processing Record 14 of Set 7 | gwadar\n",
      "Processing Record 15 of Set 7 | luderitz\n",
      "Processing Record 16 of Set 7 | laguna\n",
      "Processing Record 17 of Set 7 | nome\n",
      "Processing Record 18 of Set 7 | usinsk\n",
      "Processing Record 19 of Set 7 | margate\n",
      "Processing Record 20 of Set 7 | nago\n",
      "Processing Record 21 of Set 7 | shebunino\n",
      "Processing Record 22 of Set 7 | yining\n",
      "Processing Record 23 of Set 7 | alyangula\n",
      "Processing Record 24 of Set 7 | narsaq\n",
      "Processing Record 25 of Set 7 | ilebo\n",
      "City not found. Skipping...\n",
      "Processing Record 26 of Set 7 | dunedin\n",
      "City not found. Skipping...\n",
      "Processing Record 27 of Set 7 | tura\n",
      "Processing Record 28 of Set 7 | iquique\n",
      "City not found. Skipping...\n",
      "Processing Record 29 of Set 7 | barentu\n",
      "Processing Record 30 of Set 7 | komsomolets\n",
      "Processing Record 31 of Set 7 | chandbali\n",
      "Processing Record 32 of Set 7 | cabadiangan\n",
      "Processing Record 33 of Set 7 | loveland\n",
      "City not found. Skipping...\n",
      "Processing Record 34 of Set 7 | saint-georges\n",
      "Processing Record 35 of Set 7 | pevek\n",
      "Processing Record 36 of Set 7 | dakar\n",
      "Processing Record 37 of Set 7 | ipixuna\n",
      "Processing Record 38 of Set 7 | cabo rojo\n",
      "Processing Record 39 of Set 7 | eureka\n",
      "City not found. Skipping...\n",
      "Processing Record 40 of Set 7 | opatija\n",
      "Processing Record 41 of Set 7 | beira\n",
      "Processing Record 42 of Set 7 | port hardy\n",
      "Processing Record 43 of Set 7 | roma\n",
      "Processing Record 44 of Set 7 | sao desiderio\n",
      "Processing Record 45 of Set 7 | shunyi\n",
      "Processing Record 46 of Set 7 | moussoro\n",
      "Processing Record 47 of Set 7 | port hawkesbury\n",
      "Processing Record 48 of Set 7 | ilulissat\n",
      "Processing Record 49 of Set 7 | mokhotlong\n",
      "City not found. Skipping...\n",
      "Processing Record 50 of Set 7 | half moon bay\n",
      "Processing Record 1 of Set 8 | thiers\n",
      "Processing Record 2 of Set 8 | marrakesh\n",
      "Processing Record 3 of Set 8 | lorengau\n",
      "City not found. Skipping...\n",
      "Processing Record 4 of Set 8 | aksu\n",
      "Processing Record 5 of Set 8 | kloulklubed\n",
      "Processing Record 6 of Set 8 | xiamen\n",
      "City not found. Skipping...\n"
     ]
    },
    {
     "name": "stdout",
     "output_type": "stream",
     "text": [
      "City not found. Skipping...\n",
      "Processing Record 7 of Set 8 | chakulia\n",
      "Processing Record 8 of Set 8 | alibag\n",
      "Processing Record 9 of Set 8 | poum\n",
      "Processing Record 10 of Set 8 | macamic\n",
      "Processing Record 11 of Set 8 | bay roberts\n",
      "Processing Record 12 of Set 8 | rio gallegos\n",
      "Processing Record 13 of Set 8 | husavik\n",
      "Processing Record 14 of Set 8 | dingle\n",
      "Processing Record 15 of Set 8 | wasilla\n",
      "Processing Record 16 of Set 8 | pinyug\n",
      "Processing Record 17 of Set 8 | tarko-sale\n",
      "Processing Record 18 of Set 8 | gamba\n",
      "Processing Record 19 of Set 8 | pisz\n",
      "City not found. Skipping...\n",
      "Processing Record 20 of Set 8 | segou\n",
      "Processing Record 21 of Set 8 | salinopolis\n",
      "Processing Record 22 of Set 8 | indianola\n",
      "Processing Record 23 of Set 8 | bilibino\n",
      "Processing Record 24 of Set 8 | araguaina\n",
      "Processing Record 25 of Set 8 | verkhnevilyuysk\n",
      "Processing Record 26 of Set 8 | rockport\n",
      "Processing Record 27 of Set 8 | pindiga\n",
      "Processing Record 28 of Set 8 | harnosand\n",
      "Processing Record 29 of Set 8 | kalemie\n",
      "Processing Record 30 of Set 8 | iberia\n",
      "Processing Record 31 of Set 8 | zhigansk\n",
      "City not found. Skipping...\n",
      "Processing Record 32 of Set 8 | zalantun\n",
      "Processing Record 33 of Set 8 | palmer\n",
      "Processing Record 34 of Set 8 | mahudha\n",
      "Processing Record 35 of Set 8 | buala\n",
      "Processing Record 36 of Set 8 | ixtapa\n",
      "Processing Record 37 of Set 8 | lumberton\n",
      "Processing Record 38 of Set 8 | hay river\n",
      "Processing Record 39 of Set 8 | oranjemund\n",
      "Processing Record 40 of Set 8 | primorsko\n",
      "Processing Record 41 of Set 8 | new ulm\n",
      "City not found. Skipping...\n",
      "Processing Record 42 of Set 8 | kapit\n",
      "Processing Record 43 of Set 8 | nordfjordeid\n",
      "City not found. Skipping...\n",
      "Processing Record 44 of Set 8 | acapulco\n",
      "Processing Record 45 of Set 8 | luganville\n",
      "Processing Record 46 of Set 8 | fairbanks\n",
      "Processing Record 47 of Set 8 | manono\n",
      "Processing Record 48 of Set 8 | effingham\n",
      "Processing Record 49 of Set 8 | jasper\n",
      "Processing Record 50 of Set 8 | kiama\n",
      "Processing Record 1 of Set 9 | kruisfontein\n",
      "Processing Record 2 of Set 9 | aswan\n",
      "Processing Record 3 of Set 9 | aloleng\n",
      "Processing Record 4 of Set 9 | mucuri\n",
      "Processing Record 5 of Set 9 | lira\n",
      "Processing Record 6 of Set 9 | dongsheng\n",
      "Processing Record 7 of Set 9 | coihaique\n",
      "Processing Record 8 of Set 9 | malanje\n",
      "City not found. Skipping...\n",
      "Processing Record 9 of Set 9 | nishihara\n",
      "Processing Record 10 of Set 9 | gilgit\n",
      "Processing Record 11 of Set 9 | inhambane\n",
      "Processing Record 12 of Set 9 | mnogovershinnyy\n",
      "Processing Record 13 of Set 9 | bambous virieux\n",
      "Processing Record 14 of Set 9 | gazli\n",
      "Processing Record 15 of Set 9 | aksarka\n",
      "Processing Record 16 of Set 9 | imeni poliny osipenko\n",
      "Processing Record 17 of Set 9 | guerrero negro\n",
      "City not found. Skipping...\n",
      "Processing Record 18 of Set 9 | izhma\n",
      "Processing Record 19 of Set 9 | beihai\n",
      "Processing Record 20 of Set 9 | oakdale\n",
      "Processing Record 21 of Set 9 | kittery\n",
      "Processing Record 22 of Set 9 | morondava\n",
      "City not found. Skipping...\n",
      "Processing Record 23 of Set 9 | manavalakurichi\n",
      "Processing Record 24 of Set 9 | debica\n",
      "Processing Record 25 of Set 9 | onega\n",
      "Processing Record 26 of Set 9 | caibarien\n",
      "Processing Record 27 of Set 9 | dutlwe\n",
      "Processing Record 28 of Set 9 | seydi\n",
      "Processing Record 29 of Set 9 | greymouth\n",
      "Processing Record 30 of Set 9 | auki\n",
      "City not found. Skipping...\n",
      "Processing Record 31 of Set 9 | delta del tigre\n",
      "Processing Record 32 of Set 9 | whyalla\n",
      "Processing Record 33 of Set 9 | springdale\n",
      "Processing Record 34 of Set 9 | altay\n",
      "Processing Record 35 of Set 9 | majene\n",
      "Processing Record 36 of Set 9 | yenagoa\n",
      "Processing Record 37 of Set 9 | merauke\n",
      "Processing Record 38 of Set 9 | berlevag\n",
      "Processing Record 39 of Set 9 | lanzhou\n",
      "Processing Record 40 of Set 9 | labuhan\n",
      "Processing Record 41 of Set 9 | ketchikan\n",
      "Processing Record 42 of Set 9 | pochutla\n",
      "Processing Record 43 of Set 9 | leamington\n",
      "Processing Record 44 of Set 9 | vitim\n",
      "Processing Record 45 of Set 9 | abonnema\n",
      "Processing Record 46 of Set 9 | baculin\n",
      "Processing Record 47 of Set 9 | salta\n",
      "Processing Record 48 of Set 9 | kamenka\n",
      "Processing Record 49 of Set 9 | kondinskoye\n",
      "Processing Record 50 of Set 9 | kutum\n",
      "Processing Record 1 of Set 10 | panzhihua\n",
      "Processing Record 2 of Set 10 | cockburn town\n",
      "Processing Record 3 of Set 10 | severodvinsk\n",
      "Processing Record 4 of Set 10 | taoudenni\n",
      "City not found. Skipping...\n",
      "Processing Record 5 of Set 10 | jefferson city\n",
      "Processing Record 6 of Set 10 | hecun\n",
      "Processing Record 7 of Set 10 | provideniya\n",
      "Processing Record 8 of Set 10 | sturgis\n",
      "Processing Record 9 of Set 10 | pisco\n",
      "Processing Record 10 of Set 10 | chimbote\n",
      "Processing Record 11 of Set 10 | tiznit\n",
      "Processing Record 12 of Set 10 | man\n",
      "Processing Record 13 of Set 10 | jacareacanga\n",
      "Processing Record 14 of Set 10 | fayaoue\n",
      "Processing Record 15 of Set 10 | tilichiki\n",
      "Processing Record 16 of Set 10 | erenhot\n",
      "Processing Record 17 of Set 10 | mao\n",
      "Processing Record 18 of Set 10 | roald\n",
      "Processing Record 19 of Set 10 | plettenberg bay\n",
      "Processing Record 20 of Set 10 | udomlya\n",
      "Processing Record 21 of Set 10 | concepcion\n",
      "Processing Record 22 of Set 10 | vila franca do campo\n",
      "Processing Record 23 of Set 10 | boali\n",
      "Processing Record 24 of Set 10 | kargasok\n",
      "City not found. Skipping...\n",
      "Processing Record 25 of Set 10 | nemuro\n",
      "Processing Record 26 of Set 10 | nizwa\n",
      "Processing Record 27 of Set 10 | kalabo\n",
      "Processing Record 28 of Set 10 | xuddur\n",
      "Processing Record 29 of Set 10 | musoma\n",
      "Processing Record 30 of Set 10 | tadine\n",
      "Processing Record 31 of Set 10 | avera\n",
      "Processing Record 32 of Set 10 | san luis\n",
      "Processing Record 33 of Set 10 | sandy springs\n",
      "Processing Record 34 of Set 10 | omsukchan\n",
      "City not found. Skipping...\n",
      "Processing Record 35 of Set 10 | harsin\n",
      "City not found. Skipping...\n",
      "Processing Record 36 of Set 10 | atar\n",
      "Processing Record 37 of Set 10 | kitgum\n",
      "City not found. Skipping...\n",
      "Processing Record 38 of Set 10 | belaya gora\n",
      "Processing Record 39 of Set 10 | labytnangi\n",
      "Processing Record 40 of Set 10 | mayumba\n",
      "Processing Record 41 of Set 10 | samarai\n",
      "City not found. Skipping...\n",
      "Processing Record 42 of Set 10 | christchurch\n",
      "Processing Record 43 of Set 10 | san policarpo\n",
      "Processing Record 44 of Set 10 | san quintin\n",
      "Processing Record 45 of Set 10 | qaqortoq\n",
      "Processing Record 46 of Set 10 | tacoronte\n",
      "Processing Record 47 of Set 10 | north port\n",
      "Processing Record 48 of Set 10 | pahrump\n",
      "Processing Record 49 of Set 10 | ahipara\n",
      "Processing Record 50 of Set 10 | innisfail\n",
      "Processing Record 1 of Set 11 | ereymentau\n",
      "Processing Record 2 of Set 11 | mitsamiouli\n",
      "City not found. Skipping...\n",
      "City not found. Skipping...\n",
      "Processing Record 3 of Set 11 | ust-koksa\n",
      "Processing Record 4 of Set 11 | nalut\n",
      "Processing Record 5 of Set 11 | bati\n",
      "Processing Record 6 of Set 11 | beyneu\n",
      "Processing Record 7 of Set 11 | caravelas\n",
      "Processing Record 8 of Set 11 | jiayuguan\n",
      "Processing Record 9 of Set 11 | alcudia\n",
      "Processing Record 10 of Set 11 | lasem\n",
      "Processing Record 11 of Set 11 | inverness\n",
      "Processing Record 12 of Set 11 | palu\n",
      "Processing Record 13 of Set 11 | traverse city\n",
      "Processing Record 14 of Set 11 | cleethorpes\n",
      "City not found. Skipping...\n",
      "Processing Record 15 of Set 11 | marzuq\n",
      "City not found. Skipping...\n",
      "Processing Record 16 of Set 11 | port macquarie\n",
      "Processing Record 17 of Set 11 | lazaro cardenas\n",
      "Processing Record 18 of Set 11 | fiumicino\n",
      "Processing Record 19 of Set 11 | vyazma\n",
      "Processing Record 20 of Set 11 | west odessa\n",
      "Processing Record 21 of Set 11 | centralia\n",
      "Processing Record 22 of Set 11 | arlit\n",
      "Processing Record 23 of Set 11 | san pedro\n",
      "-----------------------------\n",
      "Data Retrieval Complete\n",
      "-----------------------------\n"
     ]
    }
   ],
   "source": [
    "# set up lists to hold reponse info as columns in the dataframe\n",
    "city_list=[]\n",
    "cloudiness=[]\n",
    "country=[]\n",
    "date=[]\n",
    "humidity=[]\n",
    "lat=[]\n",
    "lng=[]\n",
    "max_temp=[]\n",
    "wind_speed=[]\n",
    "\n",
    "record_counter=0\n",
    "set_counter=1\n",
    "\n",
    "# gather date to populate dataframe  #Procees / Print / Boundary Check / Exception Handling\n",
    "\n",
    "\n",
    "print(\"Beginning Data Retrieval\")\n",
    "print(\"-----------------------------\")\n",
    "\n",
    "for city in cities:\n",
    "#Process    \n",
    "    try:\n",
    "        response=requests.get(query_url + city.replace(\" \",\"&\")).json()\n",
    "        cloudiness.append(response['clouds']['all'])\n",
    "        country.append(response['sys']['country'])\n",
    "        date.append(response['dt'])\n",
    "        humidity.append(response['main']['humidity'])\n",
    "        lat.append(response['coord']['lat'])\n",
    "        lng.append(response['coord']['lon'])\n",
    "        max_temp.append(response['main']['temp_max'])\n",
    "        wind_speed.append(response['wind']['speed'])\n",
    "        \n",
    "        city_list.append(city)\n",
    "        record_counter +=1\n",
    "#Print        \n",
    "        print(f\"Processing Record {record_counter} of Set {set_counter} | {city}\") \n",
    "    \n",
    "#Boundary Check       \n",
    "        if record_counter >= 50:\n",
    "            record_counter=0\n",
    "            set_counter +=1      \n",
    "            \n",
    "#Exception Handling        \n",
    "    except Exception:\n",
    "        print(\"City not found. Skipping...\")\n",
    "        \n",
    "print(\"-----------------------------\")\n",
    "print(\"Data Retrieval Complete\")\n",
    "print(\"-----------------------------\")\n",
    "              \n",
    "    \n",
    "#TA's I noticed in the Homework checksum for this assignment it appears there is an error in where the  \n",
    "#print(f\"Processing Record {record_counter} of Set {set_counter} | {city}\") is placed in your presumably similar \n",
    "#example code that generaged the given printout for reference.  \n",
    "#For Example: See first record of first Set is 1 of 50.  Subsequent sets are 0 of 49.  Is this what you wanted to see?\n",
    "    "
   ]
  },
  {
   "cell_type": "markdown",
   "metadata": {},
   "source": [
    "## Convert Raw Data to DataFrame\n",
    "   * Export the city data into a .csv\n",
    "   * Display the DataFrame\n",
    "    \n",
    "    \n",
    "    "
   ]
  },
  {
   "cell_type": "code",
   "execution_count": null,
   "metadata": {},
   "outputs": [],
   "source": []
  },
  {
   "cell_type": "code",
   "execution_count": 38,
   "metadata": {},
   "outputs": [
    {
     "data": {
      "text/html": [
       "<div>\n",
       "<style scoped>\n",
       "    .dataframe tbody tr th:only-of-type {\n",
       "        vertical-align: middle;\n",
       "    }\n",
       "\n",
       "    .dataframe tbody tr th {\n",
       "        vertical-align: top;\n",
       "    }\n",
       "\n",
       "    .dataframe thead th {\n",
       "        text-align: right;\n",
       "    }\n",
       "</style>\n",
       "<table border=\"1\" class=\"dataframe\">\n",
       "  <thead>\n",
       "    <tr style=\"text-align: right;\">\n",
       "      <th></th>\n",
       "      <th>City</th>\n",
       "      <th>Cloudiness</th>\n",
       "      <th>Country</th>\n",
       "      <th>Date</th>\n",
       "      <th>Humidity</th>\n",
       "      <th>Lat</th>\n",
       "      <th>Lng</th>\n",
       "      <th>Max Temp</th>\n",
       "      <th>Wind Speed</th>\n",
       "    </tr>\n",
       "  </thead>\n",
       "  <tbody>\n",
       "    <tr>\n",
       "      <th>0</th>\n",
       "      <td>hilo</td>\n",
       "      <td>75</td>\n",
       "      <td>US</td>\n",
       "      <td>1570040975</td>\n",
       "      <td>78</td>\n",
       "      <td>19.71</td>\n",
       "      <td>-155.08</td>\n",
       "      <td>26.00</td>\n",
       "      <td>1.50</td>\n",
       "    </tr>\n",
       "    <tr>\n",
       "      <th>1</th>\n",
       "      <td>kapaa</td>\n",
       "      <td>40</td>\n",
       "      <td>US</td>\n",
       "      <td>1570040975</td>\n",
       "      <td>78</td>\n",
       "      <td>22.08</td>\n",
       "      <td>-159.32</td>\n",
       "      <td>27.00</td>\n",
       "      <td>9.30</td>\n",
       "    </tr>\n",
       "    <tr>\n",
       "      <th>2</th>\n",
       "      <td>mataura</td>\n",
       "      <td>100</td>\n",
       "      <td>NZ</td>\n",
       "      <td>1570040976</td>\n",
       "      <td>90</td>\n",
       "      <td>-46.19</td>\n",
       "      <td>168.86</td>\n",
       "      <td>5.56</td>\n",
       "      <td>1.79</td>\n",
       "    </tr>\n",
       "    <tr>\n",
       "      <th>3</th>\n",
       "      <td>grindavik</td>\n",
       "      <td>90</td>\n",
       "      <td>IS</td>\n",
       "      <td>1570040976</td>\n",
       "      <td>75</td>\n",
       "      <td>63.84</td>\n",
       "      <td>-22.43</td>\n",
       "      <td>8.00</td>\n",
       "      <td>13.40</td>\n",
       "    </tr>\n",
       "    <tr>\n",
       "      <th>4</th>\n",
       "      <td>santiago de cuba</td>\n",
       "      <td>98</td>\n",
       "      <td>PH</td>\n",
       "      <td>1570040740</td>\n",
       "      <td>94</td>\n",
       "      <td>16.69</td>\n",
       "      <td>121.54</td>\n",
       "      <td>21.41</td>\n",
       "      <td>0.82</td>\n",
       "    </tr>\n",
       "  </tbody>\n",
       "</table>\n",
       "</div>"
      ],
      "text/plain": [
       "               City  Cloudiness Country        Date  Humidity    Lat     Lng  \\\n",
       "0              hilo          75      US  1570040975        78  19.71 -155.08   \n",
       "1             kapaa          40      US  1570040975        78  22.08 -159.32   \n",
       "2           mataura         100      NZ  1570040976        90 -46.19  168.86   \n",
       "3         grindavik          90      IS  1570040976        75  63.84  -22.43   \n",
       "4  santiago de cuba          98      PH  1570040740        94  16.69  121.54   \n",
       "\n",
       "   Max Temp  Wind Speed  \n",
       "0     26.00        1.50  \n",
       "1     27.00        9.30  \n",
       "2      5.56        1.79  \n",
       "3      8.00       13.40  \n",
       "4     21.41        0.82  "
      ]
     },
     "execution_count": 38,
     "metadata": {},
     "output_type": "execute_result"
    }
   ],
   "source": [
    "# create a data frame from city, cloudiness, country, date, humidity, lat, lng, max temp, wind speed\n",
    "# some code borrowed from #https://nu.bootcampcontent.com/NU-Coding-Bootcamp/NUCHI201908DATA2/blob/master/Lessons/\n",
    "#06-Python-APIs/2/Activities/05-Ins_OpenWeatherDataFrame/Solved/Ins_OpenWeatherDataFrame.ipynb\n",
    "\n",
    "weather_dict = {\n",
    "    \"City\": city_list,\n",
    "    \"Cloudiness\":cloudiness,\n",
    "    \"Country\":country,\n",
    "    \"Date\":date,\n",
    "    \"Humidity\":humidity,\n",
    "    \"Lat\": lat,\n",
    "    \"Lng\": lng,\n",
    "    \"Max Temp\": max_temp,\n",
    "    \"Wind Speed\":wind_speed\n",
    "}\n",
    "weather_data = pd.DataFrame(weather_dict)\n",
    "weather_data.head()\n"
   ]
  },
  {
   "cell_type": "code",
   "execution_count": 41,
   "metadata": {},
   "outputs": [
    {
     "data": {
      "text/plain": [
       "City          523\n",
       "Cloudiness    523\n",
       "Country       523\n",
       "Date          523\n",
       "Humidity      523\n",
       "Lat           523\n",
       "Lng           523\n",
       "Max Temp      523\n",
       "Wind Speed    523\n",
       "dtype: int64"
      ]
     },
     "execution_count": 41,
     "metadata": {},
     "output_type": "execute_result"
    }
   ],
   "source": [
    "weather_data.count()"
   ]
  },
  {
   "cell_type": "markdown",
   "metadata": {},
   "source": [
    "## Plotting the Data\n",
    "* Use proper labeling of the plots using plot titles (including date of analysis) and axes labels. \n",
    "* Save the plotted figures as .pngs."
   ]
  },
  {
   "cell_type": "markdown",
   "metadata": {},
   "source": [
    " ## Latitude vs. Temperature Plot"
   ]
  },
  {
   "cell_type": "code",
   "execution_count": 68,
   "metadata": {},
   "outputs": [
    {
     "data": {
      "image/png": "[encoded data removed]",
      "text/plain": [
       "<Figure size 432x288 with 1 Axes>"
      ]
     },
     "metadata": {
      "needs_background": "light"
     },
     "output_type": "display_data"
    }
   ],
   "source": [
    " # Build a scatter plot for each data type\n",
    "plt.scatter(weather_data[\"Lat\"], weather_data[\"Max Temp\"], marker=\"o\")\n",
    "\n",
    "# Grab date of analysis Assistance from StackOverflow \n",
    "#https://stackoverflow.com/questions/3682748/converting-unix-timestamp-string-to-readable-date\n",
    "\n",
    "timestamp = weather_data['Date'].iloc[0]\n",
    "ts=datetime.utcfromtimestamp(timestamp).strftime('%m-%d-%Y')\n",
    "\n",
    "# Incorporate the other graph properties\n",
    "plt.title(f\"City Latitude vs Max Temperature ({ts})\")\n",
    "plt.ylabel(\"Max Temperature (Celsius)\")\n",
    "plt.xlabel(\"Latitude\")\n",
    "plt.grid(True)\n",
    "\n",
    "# Save the figure\n",
    "plt.savefig(\"CityLat_vs_MaxTemp.png\")\n",
    "\n",
    "# Show plot\n",
    "plt.show()"
   ]
  },
  {
   "cell_type": "markdown",
   "metadata": {},
   "source": [
    " ## Latitude vs. Humidity Plot\n"
   ]
  },
  {
   "cell_type": "code",
   "execution_count": 69,
   "metadata": {},
   "outputs": [
    {
     "data": {
      "image/png": "[encoded data removed]",
      "text/plain": [
       "<Figure size 432x288 with 1 Axes>"
      ]
     },
     "metadata": {
      "needs_background": "light"
     },
     "output_type": "display_data"
    }
   ],
   "source": [
    " # Build a scatter plot for each data type\n",
    "plt.scatter(weather_data[\"Lat\"], weather_data[\"Humidity\"], marker=\"o\")\n",
    "\n",
    "# Grab date of analysis Assistance from StackOverflow \n",
    "#https://stackoverflow.com/questions/3682748/converting-unix-timestamp-string-to-readable-date\n",
    "\n",
    "timestamp = weather_data['Date'].iloc[0]\n",
    "ts=datetime.utcfromtimestamp(timestamp).strftime('%m-%d-%Y')\n",
    "\n",
    "# Incorporate the other graph properties\n",
    "plt.title(f\"City Latitude vs Humidity ({ts})\")\n",
    "plt.ylabel(\"Humidity (%)\")\n",
    "plt.xlabel(\"Latitude\")\n",
    "plt.grid(True)\n",
    "\n",
    "# Save the figure\n",
    "plt.savefig(\"CityLat_vs_Humidity.png\")\n",
    "\n",
    "# Show plot\n",
    "plt.show()"
   ]
  },
  {
   "cell_type": "markdown",
   "metadata": {},
   "source": [
    "## Latitude vs. Cloudiness Plot"
   ]
  },
  {
   "cell_type": "code",
   "execution_count": 70,
   "metadata": {},
   "outputs": [
    {
     "data": {
      "image/png": "[encoded data removed]",
      "text/plain": [
       "<Figure size 432x288 with 1 Axes>"
      ]
     },
     "metadata": {
      "needs_background": "light"
     },
     "output_type": "display_data"
    }
   ],
   "source": [
    "# Build a scatter plot for each data type\n",
    "plt.scatter(weather_data[\"Lat\"], weather_data[\"Cloudiness\"], marker=\"o\")\n",
    "\n",
    "# Grab date of analysis Assistance from StackOverflow \n",
    "#https://stackoverflow.com/questions/3682748/converting-unix-timestamp-string-to-readable-date\n",
    "\n",
    "timestamp = weather_data['Date'].iloc[0]\n",
    "ts=datetime.utcfromtimestamp(timestamp).strftime('%m-%d-%Y')\n",
    "\n",
    "# Incorporate the other graph properties\n",
    "plt.title(f\"City Latitude vs Cloudiness ({ts})\")\n",
    "plt.ylabel(\"Cloudiness (%)\")\n",
    "plt.xlabel(\"Latitude\")\n",
    "plt.grid(True)\n",
    "\n",
    "# Save the figure\n",
    "plt.savefig(\"CityLat_vs_Cloudiness.png\")\n",
    "\n",
    "# Show plot\n",
    "plt.show()"
   ]
  },
  {
   "cell_type": "markdown",
   "metadata": {},
   "source": [
    " ## Latitude vs. Wind Speed Plot"
   ]
  },
  {
   "cell_type": "code",
   "execution_count": 72,
   "metadata": {},
   "outputs": [
    {
     "data": {
      "image/png": "[encoded data removed]",
      "text/plain": [
       "<Figure size 432x288 with 1 Axes>"
      ]
     },
     "metadata": {
      "needs_background": "light"
     },
     "output_type": "display_data"
    }
   ],
   "source": [
    "# Build a scatter plot for each data type\n",
    "plt.scatter(weather_data[\"Lat\"], weather_data[\"Wind Speed\"], marker=\"o\")\n",
    "\n",
    "# Grab date of analysis Assistance from StackOverflow \n",
    "#https://stackoverflow.com/questions/3682748/converting-unix-timestamp-string-to-readable-date\n",
    "\n",
    "timestamp = weather_data['Date'].iloc[0]\n",
    "ts=datetime.utcfromtimestamp(timestamp).strftime('%m-%d-%Y')\n",
    "\n",
    "# Incorporate the other graph properties\n",
    "plt.title(f\"City Latitude vs Wind Speed ({ts})\")\n",
    "plt.ylabel(\"Wind Speed (mph)\")\n",
    "plt.xlabel(\"Latitude\")\n",
    "plt.grid(True)\n",
    "\n",
    "# Save the figure\n",
    "plt.savefig(\"CityLat_vs_WindSpeed.png\")\n",
    "\n",
    "# Show plot\n",
    "plt.show()"
   ]
  },
  {
   "cell_type": "code",
   "execution_count": 76,
   "metadata": {},
   "outputs": [],
   "source": [
    "#split cities according to norther or souther hemishere \n",
    "# Create Northern and Southern Hemisphere DataFrames\n",
    "northern=weather_data[weather_data[\"Lat\"]>0]\n",
    "southern=weather_data[weather_data[\"Lat\"]<0]"
   ]
  },
  {
   "cell_type": "markdown",
   "metadata": {},
   "source": [
    "## Northern Hemisphere - Max Temp vs. Latitude Linear Regression"
   ]
  },
  {
   "cell_type": "code",
   "execution_count": 91,
   "metadata": {},
   "outputs": [
    {
     "name": "stdout",
     "output_type": "stream",
     "text": [
      "The r-squared is: -0.79978825027606\n"
     ]
    },
    {
     "data": {
      "image/png": "[encoded data removed]",
      "text/plain": [
       "<Figure size 432x288 with 1 Axes>"
      ]
     },
     "metadata": {
      "needs_background": "light"
     },
     "output_type": "display_data"
    }
   ],
   "source": [
    "# Perform a linear regression on Max Temp vs Latitude\n",
    "x_values=northern[\"Max Temp\"]\n",
    "y_values=northern[\"Lat\"]\n",
    "(slope, intercept, rvalue, pvalue, stderr) = stats.linregress(x_values, y_values)\n",
    "regress_values = x_values * slope + intercept\n",
    "\n",
    "# Create Plot\n",
    "plt.scatter(x_values,y_values)\n",
    "plt.plot(x_values,regress_values,\"r-\")\n",
    "\n",
    "# Label plot \n",
    "plt.title('Northern Hemisphere - Max Temp vs. Latitude w/Regression')\n",
    "plt.xlabel('Max Temp')\n",
    "plt.ylabel('Latitude')\n",
    "\n",
    "\n",
    "# Print r square value\n",
    "print(f\"The r-squared is: {rvalue}\")\n",
    "\n",
    "# Show plot\n",
    "plt.show()"
   ]
  },
  {
   "cell_type": "code",
   "execution_count": null,
   "metadata": {},
   "outputs": [],
   "source": [
    "Southern Hemisphere - Max Temp vs. Latitude Linear Regression"
   ]
  },
  {
   "cell_type": "code",
   "execution_count": 92,
   "metadata": {},
   "outputs": [
    {
     "name": "stdout",
     "output_type": "stream",
     "text": [
      "The r-squared is: 0.7772591147086141\n"
     ]
    },
    {
     "data": {
      "image/png": "[encoded data removed]",
      "text/plain": [
       "<Figure size 432x288 with 1 Axes>"
      ]
     },
     "metadata": {
      "needs_background": "light"
     },
     "output_type": "display_data"
    }
   ],
   "source": [
    "# Perform a linear regression on Max Temp vs Latitude\n",
    "x_values=southern[\"Max Temp\"]\n",
    "y_values=southern[\"Lat\"]\n",
    "(slope, intercept, rvalue, pvalue, stderr) = stats.linregress(x_values, y_values)\n",
    "regress_values = x_values * slope + intercept\n",
    "\n",
    "# Create Plot\n",
    "plt.scatter(x_values,y_values)\n",
    "plt.plot(x_values,regress_values,\"r-\")\n",
    "\n",
    "# Label plot \n",
    "plt.title('Southern Hemisphere - Max Temp vs. Latitude w/Regression')\n",
    "plt.xlabel('Max Temp')\n",
    "plt.ylabel('Latitude')\n",
    "\n",
    "\n",
    "# Print r square value\n",
    "print(f\"The r-squared is: {rvalue}\")\n",
    "\n",
    "# Show plot\n",
    "plt.show()"
   ]
  },
  {
   "cell_type": "code",
   "execution_count": null,
   "metadata": {},
   "outputs": [],
   "source": [
    " Northern Hemisphere - Humidity (%) vs. Latitude Linear Regression"
   ]
  },
  {
   "cell_type": "code",
   "execution_count": 93,
   "metadata": {},
   "outputs": [
    {
     "name": "stdout",
     "output_type": "stream",
     "text": [
      "The r-squared is: 0.08599528279924605\n"
     ]
    },
    {
     "data": {
      "image/png": "[encoded data removed]",
      "text/plain": [
       "<Figure size 432x288 with 1 Axes>"
      ]
     },
     "metadata": {
      "needs_background": "light"
     },
     "output_type": "display_data"
    }
   ],
   "source": [
    "# Perform a linear regression on Humidity (%) vs. Latitude\n",
    "x_values=northern[\"Humidity\"]\n",
    "y_values=northern[\"Lat\"]\n",
    "(slope, intercept, rvalue, pvalue, stderr) = stats.linregress(x_values, y_values)\n",
    "regress_values = x_values * slope + intercept\n",
    "\n",
    "# Create Plot\n",
    "plt.scatter(x_values,y_values)\n",
    "plt.plot(x_values,regress_values,\"r-\")\n",
    "\n",
    "# Label plot \n",
    "plt.title('Northern Hemisphere - Humidity vs. Latitude w/Regression')\n",
    "plt.xlabel('Humidity (%)')\n",
    "plt.ylabel('Latitude')\n",
    "\n",
    "\n",
    "# Print r square value\n",
    "print(f\"The r-squared is: {rvalue}\")\n",
    "\n",
    "# Show plot\n",
    "plt.show()"
   ]
  },
  {
   "cell_type": "code",
   "execution_count": null,
   "metadata": {},
   "outputs": [],
   "source": [
    " Southern Hemisphere - Humidity (%) vs. Latitude Linear Regression"
   ]
  },
  {
   "cell_type": "code",
   "execution_count": 95,
   "metadata": {},
   "outputs": [
    {
     "name": "stdout",
     "output_type": "stream",
     "text": [
      "The r-squared is: 0.23018544065915195\n"
     ]
    },
    {
     "data": {
      "image/png": "[encoded data removed]",
      "text/plain": [
       "<Figure size 432x288 with 1 Axes>"
      ]
     },
     "metadata": {
      "needs_background": "light"
     },
     "output_type": "display_data"
    }
   ],
   "source": [
    "# Perform a linear regression on Humidity vs Latitude\n",
    "x_values=southern[\"Humidity\"]\n",
    "y_values=southern[\"Lat\"]\n",
    "(slope, intercept, rvalue, pvalue, stderr) = stats.linregress(x_values, y_values)\n",
    "regress_values = x_values * slope + intercept\n",
    "\n",
    "# Create Plot\n",
    "plt.scatter(x_values,y_values)\n",
    "plt.plot(x_values,regress_values,\"r-\")\n",
    "\n",
    "# Label plot and annotate the line equation\n",
    "plt.title('Southern Hemisphere - Humidity vs. Latitude w/Regression')\n",
    "plt.xlabel('Humidity (%)')\n",
    "plt.ylabel('Latitude')\n",
    "\n",
    "\n",
    "# Print r square value\n",
    "print(f\"The r-squared is: {rvalue}\")\n",
    "\n",
    "# Show plot\n",
    "plt.show()"
   ]
  },
  {
   "cell_type": "code",
   "execution_count": null,
   "metadata": {},
   "outputs": [],
   "source": [
    "Northern Hemisphere - Cloudiness (%) vs. Latitude Linear Regression"
   ]
  },
  {
   "cell_type": "code",
   "execution_count": 96,
   "metadata": {},
   "outputs": [
    {
     "name": "stdout",
     "output_type": "stream",
     "text": [
      "The r-squared is: 0.0724889298704332\n"
     ]
    },
    {
     "data": {
      "image/png": "[encoded data removed]",
      "text/plain": [
       "<Figure size 432x288 with 1 Axes>"
      ]
     },
     "metadata": {
      "needs_background": "light"
     },
     "output_type": "display_data"
    }
   ],
   "source": [
    "# Perform a linear regression on Cloudiness (%) vs. Latitude\n",
    "x_values=northern[\"Cloudiness\"]\n",
    "y_values=northern[\"Lat\"]\n",
    "(slope, intercept, rvalue, pvalue, stderr) = stats.linregress(x_values, y_values)\n",
    "regress_values = x_values * slope + intercept\n",
    "\n",
    "# Create Plot\n",
    "plt.scatter(x_values,y_values)\n",
    "plt.plot(x_values,regress_values,\"r-\")\n",
    "\n",
    "# Label plot and annotate the line equation\n",
    "plt.title('Northern Hemisphere - Cloudiness vs. Latitude w/Regression')\n",
    "plt.xlabel('Cloudiness (%)')\n",
    "plt.ylabel('Latitude')\n",
    "\n",
    "\n",
    "# Print r square value\n",
    "print(f\"The r-squared is: {rvalue}\")\n",
    "\n",
    "# Show plot\n",
    "plt.show()"
   ]
  },
  {
   "cell_type": "code",
   "execution_count": null,
   "metadata": {},
   "outputs": [],
   "source": [
    "Southern Hemisphere - Cloudiness (%) vs. Latitude Linear Regression"
   ]
  },
  {
   "cell_type": "code",
   "execution_count": 97,
   "metadata": {},
   "outputs": [
    {
     "name": "stdout",
     "output_type": "stream",
     "text": [
      "The r-squared is: 0.7772591147086141\n"
     ]
    },
    {
     "data": {
      "image/png": "[encoded data removed]",
      "text/plain": [
       "<Figure size 432x288 with 1 Axes>"
      ]
     },
     "metadata": {
      "needs_background": "light"
     },
     "output_type": "display_data"
    }
   ],
   "source": [
    "# Perform a linear regression Cloudiness (%) vs. Latitude\n",
    "x_values=southern[\"Max Temp\"]\n",
    "y_values=southern[\"Lat\"]\n",
    "(slope, intercept, rvalue, pvalue, stderr) = stats.linregress(x_values, y_values)\n",
    "regress_values = x_values * slope + intercept\n",
    "\n",
    "# Create Plot\n",
    "plt.scatter(x_values,y_values)\n",
    "plt.plot(x_values,regress_values,\"r-\")\n",
    "\n",
    "# Label plot and annotate the line equation\n",
    "plt.title('Northern Hemisphere - Cloudiness vs. Latitude w/Regression')\n",
    "plt.xlabel('Cloudiness (%)')\n",
    "plt.ylabel('Latitude')\n",
    "\n",
    "\n",
    "# Print r square value\n",
    "print(f\"The r-squared is: {rvalue}\")\n",
    "\n",
    "# Show plot\n",
    "plt.show()"
   ]
  },
  {
   "cell_type": "code",
   "execution_count": null,
   "metadata": {},
   "outputs": [],
   "source": [
    " Northern Hemisphere - Wind Speed (mph) vs. Latitude Linear Regression"
   ]
  },
  {
   "cell_type": "code",
   "execution_count": 98,
   "metadata": {},
   "outputs": [
    {
     "name": "stdout",
     "output_type": "stream",
     "text": [
      "The r-squared is: -0.79978825027606\n"
     ]
    },
    {
     "data": {
      "image/png": "[encoded data removed]",
      "text/plain": [
       "<Figure size 432x288 with 1 Axes>"
      ]
     },
     "metadata": {
      "needs_background": "light"
     },
     "output_type": "display_data"
    }
   ],
   "source": [
    "# Perform a linear regression on Wind Speed (mph) vs. Latitude\n",
    "x_values=northern[\"Max Temp\"]\n",
    "y_values=northern[\"Lat\"]\n",
    "(slope, intercept, rvalue, pvalue, stderr) = stats.linregress(x_values, y_values)\n",
    "regress_values = x_values * slope + intercept\n",
    "\n",
    "# Create Plot\n",
    "plt.scatter(x_values,y_values)\n",
    "plt.plot(x_values,regress_values,\"r-\")\n",
    "\n",
    "# Label plot and annotate the line equation\n",
    "plt.title('Northern Hemisphere - Wind Speed vs. Latitude w/Regression')\n",
    "plt.xlabel('Wind Speed (mph)')\n",
    "plt.ylabel('Latitude')\n",
    "\n",
    "\n",
    "# Print r square value\n",
    "print(f\"The r-squared is: {rvalue}\")\n",
    "\n",
    "# Show plot\n",
    "plt.show()"
   ]
  },
  {
   "cell_type": "code",
   "execution_count": null,
   "metadata": {},
   "outputs": [],
   "source": [
    " Southern Hemisphere - Wind Speed (mph) vs. Latitude Linear Regression"
   ]
  },
  {
   "cell_type": "code",
   "execution_count": 100,
   "metadata": {},
   "outputs": [
    {
     "name": "stdout",
     "output_type": "stream",
     "text": [
      "The r-squared is: -0.24679139690118\n"
     ]
    },
    {
     "data": {
      "image/png": "[encoded data removed]",
      "text/plain": [
       "<Figure size 432x288 with 1 Axes>"
      ]
     },
     "metadata": {
      "needs_background": "light"
     },
     "output_type": "display_data"
    }
   ],
   "source": [
    "# Perform a linear regression on Max Temp vs Latitude\n",
    "x_values=southern[\"Wind Speed\"]\n",
    "y_values=southern[\"Lat\"]\n",
    "(slope, intercept, rvalue, pvalue, stderr) = stats.linregress(x_values, y_values)\n",
    "regress_values = x_values * slope + intercept\n",
    "\n",
    "# Create Plot\n",
    "plt.scatter(x_values,y_values)\n",
    "plt.plot(x_values,regress_values,\"r-\")\n",
    "\n",
    "# Label plot and annotate the line equation\n",
    "plt.title('Southern Hemisphere - Wind Speed vs. Latitude w/Regression')\n",
    "plt.xlabel('Wind Speed (mph)')\n",
    "plt.ylabel('Latitude')\n",
    "\n",
    "\n",
    "# Print r square value\n",
    "print(f\"The r-squared is: {rvalue}\")\n",
    "\n",
    "# Show plot\n",
    "plt.show()"
   ]
  },
  {
   "cell_type": "code",
   "execution_count": null,
   "metadata": {},
   "outputs": [],
   "source": []
  }
 ],
 "metadata": {
  "kernelspec": {
   "display_name": "Python 3",
   "language": "python",
   "name": "python3"
  },
  "language_info": {
   "codemirror_mode": {
    "name": "ipython",
    "version": 3
   },
   "file_extension": ".py",
   "mimetype": "text/x-python",
   "name": "python",
   "nbconvert_exporter": "python",
   "pygments_lexer": "ipython3",
   "version": "3.7.1"
  }
 },
 "nbformat": 4,
 "nbformat_minor": 2
}
